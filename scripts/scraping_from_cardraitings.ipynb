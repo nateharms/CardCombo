{
 "cells": [
  {
   "cell_type": "markdown",
   "metadata": {},
   "source": [
    "# A Python bases script to read in credit card reviews from `cardraitings.com`, collect reward information from those credit cards, and try to find the best combination of cards for an individual's expenses"
   ]
  },
  {
   "cell_type": "code",
   "execution_count": 1,
   "metadata": {},
   "outputs": [],
   "source": [
    "import os\n",
    "import numpy as np\n",
    "import pandas as pd\n",
    "from bs4 import BeautifulSoup\n",
    "import requests\n",
    "import re\n",
    "import pickle\n"
   ]
  },
  {
   "cell_type": "code",
   "execution_count": 2,
   "metadata": {
    "tags": [
     "outputPrepend"
    ]
   },
   "outputs": [
    {
     "output_type": "stream",
     "name": "stdout",
     "text": "-card-review\nhttps://www.cardratings.com/credit-card/phi-kappa-phi-rewards-visa-credit-card-review\nhttps://www.cardratings.com/credit-card/philadelphia-eagles-nfl-extra-points-from-barclays-bank-delaware\nhttps://www.cardratings.com/credit-card/philadelphia-phillies-bankamericard-cash-rewards-mastercard\nhttps://www.cardratings.com/credit-card/picknsave-metro-market-rewards-world-mastercard\nhttps://www.cardratings.com/credit-card/pier-1-imports-rewards-credit-card-review\nhttps://www.cardratings.com/credit-card/pittsburgh-pirates-bankamericard-cash-rewards-mastercard\nhttps://www.cardratings.com/credit-card/pittsburgh-steelers-nfl-extra-points-from-barclays-bank-delaware\nhttps://www.cardratings.com/credit-card/plains-commerce-bank-mastercard-classic.html\nhttps://www.cardratings.com/credit-card/plains-commerce-bank-visa-classic\nhttps://www.cardratings.com/credit-card/plains-commerce-bank-visa-gold-card\nhttps://www.cardratings.com/credit-card/popular-bank-platinum-mastercard-review\nhttps://www.cardratings.com/credit-card/popular-bank-preferred-world-mastercard-review\nhttps://www.cardratings.com/credit-card/popular-bank-rewards-mastercard-review\nhttps://www.cardratings.com/credit-card/the-porsche-club-of-america-visa-platinum-rewards-card.html\nhttps://www.cardratings.com/credit-card/pottery-barn-credit-card\nhttps://www.cardratings.com/credit-card/precious-moments-rewards-visa-card-review\nhttps://www.cardratings.com/credit-card/pricelinecom-rewards-visa-signature-card\nhttps://www.cardratings.com/credit-card/princess-cruises-rewards-visa-card-from-barclays-bank-delaware\nhttps://www.cardratings.com/credit-card/qfc-123-rewards-visa\nhttps://www.cardratings.com/credit-card/reflex-credit-card.html\nhttps://www.cardratings.com/credit-card/rbc-avion-visa-infinite-.html\nhttps://www.cardratings.com/credit-card/rbc-avion-visa-infinite-privilege.html\nhttps://www.cardratings.com/credit-card/british-airways-visa-infinite.html\nhttps://www.cardratings.com/credit-card/rbc-cathay-pacific-visa-platinum.html\nhttps://www.cardratings.com/credit-card/rbc-rateadvantage-visa.html\nhttps://www.cardratings.com/credit-card/rbc-rewards-visa-gold-.html\nhttps://www.cardratings.com/credit-card/rbc-rewards-visa-preferred.html\nhttps://www.cardratings.com/credit-card/rbc-us-dollar-visa-gold.html\nhttps://www.cardratings.com/credit-card/rbc-visa-platinum-card\nhttps://www.cardratings.com/credit-card/rbc-bank-visa-signature-black-credit-card\nhttps://www.cardratings.com/credit-card/rbc-visa-signature-black-plus-.html\nhttps://www.cardratings.com/credit-card/rbc-avion-visa-business-card.html\nhttps://www.cardratings.com/credit-card/rbc-business-cash-back-mastercard.html\nhttps://www.cardratings.com/credit-card/rbc-cash-back-mastercard.html\nhttps://www.cardratings.com/credit-card/rbc-visa-business-card.html\nhttps://www.cardratings.com/credit-card/rbc-visa-platinum-avion.html\nhttps://www.cardratings.com/credit-card/rci-elite-rewards-mastercard.html\nhttps://www.cardratings.com/credit-card/rei-coop-world-elite-mastercard\nhttps://www.cardratings.com/credit-card/rmef-rewards-visa-card-review\nhttps://www.cardratings.com/credit-card/ralphs-rewards-plus-world-mastercard-card\nhttps://www.cardratings.com/credit-card/regions-bank-explore-visa--review\nhttps://www.cardratings.com/credit-card/regions-bank-life-visa-review\nhttps://www.cardratings.com/credit-card/regions-bank-premium-visa-signature-review\nhttps://www.cardratings.com/credit-card/regions-bank-prestige-visa-signature-review\nhttps://www.cardratings.com/credit-card/regions-bank-visa-business-review\nhttps://www.cardratings.com/credit-card/regions-bank-visa-business-enhanced-review\nhttps://www.cardratings.com/credit-card/restoration-hardware-credit-card-review\nhttps://www.cardratings.com/credit-card/riverview-community-bank-cash-rewards-american-express-card-review\nhttps://www.cardratings.com/credit-card/riverview-community-bank-college-rewards-visa-card\nhttps://www.cardratings.com/credit-card/riverview-community-bank-travel-rewards-american-express-card-review\nhttps://www.cardratings.com/credit-card/riverview-community-bank-visa-business-card\nhttps://www.cardratings.com/credit-card/riverview-community-bank-visa-business-cash-card-review\nhttps://www.cardratings.com/credit-card/riverview-community-bank-visa-platinum-business-rewards-card\nhttps://www.cardratings.com/credit-card/riverview-community-bank-visa-business-travel-card\nhttps://www.cardratings.com/credit-card/riverview-community-bank-visa-platinum-card\nhttps://www.cardratings.com/credit-card/royal-caribbean-visa-signature-card.html\nhttps://www.cardratings.com/credit-card/simmons-bank-visa-platinum-rewards.html\nhttps://www.cardratings.com/credit-card/simmons-bank-platinum-visa\nhttps://www.cardratings.com/credit-card/southwest-airlines-rapid-rewards-plus-credit-card.html\nhttps://www.cardratings.com/credit-card/southwest-airlines-rapid-rewards-premier-credit-card.html\nhttps://www.cardratings.com/credit-card/southwest-airlines-rapid-rewards-priority-credit-card.html\nhttps://www.cardratings.com/credit-card/surge-mastercard-credit-card.html\nhttps://www.cardratings.com/credit-card/synchrony-car-care-credit-card.html\nhttps://www.cardratings.com/credit-card/sefcu-lightning-mastercard-review\nhttps://www.cardratings.com/credit-card/sefcu-mastercard-review\nhttps://www.cardratings.com/credit-card/sefcu-world-mastercard-review\nhttps://www.cardratings.com/credit-card/siu-southern-illinois-university-rewards-visa-credit-card-review\nhttps://www.cardratings.com/credit-card/smu-southern-methodist-university-visa-signature-rewards-credit-card-review\nhttps://www.cardratings.com/credit-card/san-diego-padres-bankamericard-cash-rewards-mastercard\nhttps://www.cardratings.com/credit-card/san-francisco-49ers-nfl-extra-points-from-barclays-bank-delaware\nhttps://www.cardratings.com/credit-card/san-francisco-giants-bankamericard-cash-rewards-mastercard\nhttps://www.cardratings.com/credit-card/save-the-children-visa-signature-credit-card-review\nhttps://www.cardratings.com/credit-card/seattle-mariners-bankamericard-cash-rewards-mastercard\nhttps://www.cardratings.com/credit-card/seattle-seahawks-nfl-extra-points-from-barclays-bank-delaware\nhttps://www.cardratings.com/credit-card/seattle-u-visa-rewards-review\nhttps://www.cardratings.com/credit-card/rbc-visa-platinum-rewards\nhttps://www.cardratings.com/credit-card/smiths-food-drug-stores-123-rewards-visa\nhttps://www.cardratings.com/credit-card/solvay-bank-visa-business-card--review\nhttps://www.cardratings.com/credit-card/solvay-bank-visa-platinum-card\nhttps://www.cardratings.com/credit-card/solvay-bank-visa-platinum-standard-card-review\nhttps://www.cardratings.com/credit-card/sons-of-italy-visa-rewards-review\nhttps://www.cardratings.com/credit-card/south-alabama-jaguars-visa-rewards-card-review\nhttps://www.cardratings.com/credit-card/southwestern-oklahoma-state-university-alumni-rewards-visa-card-review\nhttps://www.cardratings.com/credit-card/spirit-airlines-world-mastercard-credit-card.html\nhttps://www.cardratings.com/credit-card/st-louis-cardinals-bankamericard-cash-rewards-mastercard\nhttps://www.cardratings.com/credit-card/stage-credit-card-review\nhttps://www.cardratings.com/credit-card/stand-up-to-cancer-credit-card-review\nhttps://www.cardratings.com/credit-card/staples-business-credit-cardrevolving\nhttps://www.cardratings.com/credit-card/starbucks-rewards-card\nhttps://www.cardratings.com/credit-card/state-farm-bank-visa-business-card\nhttps://www.cardratings.com/credit-card/state-farm-bank-good-neighbor-visa-credit-card\nhttps://www.cardratings.com/credit-card/state-farm-rewards-visa-credit-card\nhttps://www.cardratings.com/credit-card/state-farm-student-visa-credit-card\nhttps://www.cardratings.com/credit-card/stein-mart-credit-card.html\nhttps://www.cardratings.com/credit-card/stein-mart-platinum-mastercard-.html\nhttps://www.cardratings.com/credit-card/stephen-f.-austin-alumni-mastercard-rewards-card-review\nhttps://www.cardratings.com/credit-card/steuben-trust-cash-rewards-american-express-card-review\nhttps://www.cardratings.com/credit-card/steuben-trust-college-rewards-visa-card\nhttps://www.cardratings.com/credit-card/steuben-trust-travel-rewards-american-express-card-review\nhttps://www.cardratings.com/credit-card/steuben-trust-business-card-visa-card\nhttps://www.cardratings.com/credit-card/steuben-trust-visa-business-cash-card-review\nhttps://www.cardratings.com/credit-card/steuben-trust-visa-platinum-business-rewards-card\nhttps://www.cardratings.com/credit-card/steuben-trust-business-travel-card-visa-card\nhttps://www.cardratings.com/credit-card/steuben-trust-visa-platinum-card\nhttps://www.cardratings.com/credit-card/suntrust-business-rewards-credit-card-review\nhttps://www.cardratings.com/credit-card/suntrust-platinum-visa-with-cash-rewards\nhttps://www.cardratings.com/credit-card/suntrust-secured-credit-card.html\nhttps://www.cardratings.com/credit-card/synovus-business-travel-rewards-visa-credit-card-review\nhttps://www.cardratings.com/credit-card/synovus-business-visa-credit-card.html\nhttps://www.cardratings.com/credit-card/synovus-cash-rewards-visa-credit-card\nhttps://www.cardratings.com/credit-card/synovus-classic-visa-credit-card-review\nhttps://www.cardratings.com/credit-card/synovus-business-mastercard.html\nhttps://www.cardratings.com/credit-card/synovus-rewards-visa-credit-card\nhttps://www.cardratings.com/credit-card/synovus-travel-rewards-visa-credit-card-review\nhttps://www.cardratings.com/credit-card/td-cash-visa-credit-card\nhttps://www.cardratings.com/credit-card/hilton-honors-business-card-from-american-express-open.html\nhttps://www.cardratings.com/credit-card/the-world-of-hyatt-credit-card-from-chase.html\nhttps://www.cardratings.com/credit-card/total-visa-unsecured-credit-card.html\nhttps://www.cardratings.com/credit-card/tcf-bank-business-edition-secured-visa-card-review\nhttps://www.cardratings.com/credit-card/tcf-bank-business-edition-visa-card-review\nhttps://www.cardratings.com/credit-card/tcf-bank-business-edition-visa-card-with-reward-simplicity-review\nhttps://www.cardratings.com/credit-card/tcf-bank-maximum-rewards-visa-card-review\nhttps://www.cardratings.com/credit-card/tcf-bank-platinum-edition-visa-card-review\nhttps://www.cardratings.com/credit-card/tcf-bank-secured-visa-card-review\nhttps://www.cardratings.com/credit-card/td-ameritrade-client-rewards-credit-card-review\nhttps://www.cardratings.com/credit-card/td-business-solutions-visa-credit-card.html\nhttps://www.cardratings.com/credit-card/td-first-class-sm-visa-signature-credit-card.html\nhttps://www.cardratings.com/credit-card/tj-maxx-credit-card-review\nhttps://www.cardratings.com/credit-card/tjx-rewards-credit-card\nhttps://www.cardratings.com/credit-card/tjx-rewards-platinum-mastercard.html\nhttps://www.cardratings.com/credit-card/tna-tennessee-nurses-association-visa-rewards-review\nhttps://www.cardratings.com/credit-card/trio-preferred-credit-card\nhttps://www.cardratings.com/credit-card/talbots-classic-awards-platinum-credit-card.html\nhttps://www.cardratings.com/credit-card/tampa-bay-buccaneers-nfl-extra-points-from-barclays-bank-delaware\nhttps://www.cardratings.com/credit-card/tampa-bay-rays-bankamericard-cash-rewards-mastercard\nhttps://www.cardratings.com/credit-card/taste-of-home-mastercard-with-rewards-review\nhttps://www.cardratings.com/credit-card/teachers-fcu-business-credit-card-review\nhttps://www.cardratings.com/credit-card/tennessee-titans-nfl-extra-points-from-barclays-bank-delaware\nhttps://www.cardratings.com/credit-card/tennis-express-rewards-visa-credit-card-review\nhttps://www.cardratings.com/credit-card/texas-capital-bank-cash-rewards-american-express-card-review\nhttps://www.cardratings.com/credit-card/texas-capital-bank-premier-rewards-american-express-card-review\nhttps://www.cardratings.com/credit-card/texas-capital-bank-secured-visa-card-review\nhttps://www.cardratings.com/credit-card/texas-capital-bank-visa-signature-college-real-rewards-card-review\nhttps://www.cardratings.com/credit-card/texas-capital-bank-visa-signature-real-rewards-card-review\nhttps://www.cardratings.com/credit-card/texas-capital-bank-visa-business-card-review\nhttps://www.cardratings.com/credit-card/texas-capital-bank-visa-business-cash-card-review\nhttps://www.cardratings.com/credit-card/texas-capital-bank-visa-business-real-rewards-card-review\nhttps://www.cardratings.com/credit-card/texas-capital-bank-visa-business-rewards-plus-card-review\nhttps://www.cardratings.com/credit-card/texas-capital-bank-visa-platinum-card-review\nhttps://www.cardratings.com/credit-card/texas-rangers-bankamericard-cash-rewards-mastercard-.html\nhttps://www.cardratings.com/credit-card/texas-tech-mastercard-with-rewards-review\nhttps://www.cardratings.com/credit-card/the-brooks-brothers-card-review\nhttps://www.cardratings.com/credit-card/the-brooks-brothers-platinum-mastercard-review\nhttps://www.cardratings.com/credit-card/the-container-store-credit-card-review\nhttps://www.cardratings.com/credit-card/the-linux-foundation-visa-platinum-rewards-card\nhttps://www.cardratings.com/credit-card/tioga-state-bank-cash-rewards-american-express-card-review\nhttps://www.cardratings.com/credit-card/tioga-state-bank-college-real-rewards-visa-card\nhttps://www.cardratings.com/credit-card/tioga-state-bank-premier-rewards-american-express-card-review\nhttps://www.cardratings.com/credit-card/tioga-state-bank-secured-visa-card\nhttps://www.cardratings.com/credit-card/tioga-state-bank-visa-signature-real-rewards-card\nhttps://www.cardratings.com/credit-card/tioga-state-bank-visa-business-card\nhttps://www.cardratings.com/credit-card/tioga-state-bank-visa-business-cash-card-review\nhttps://www.cardratings.com/credit-card/tioga-state-bank-visa-business-real-rewards-card\nhttps://www.cardratings.com/credit-card/tioga-state-bank-visa-business-rewards-plus-card\nhttps://www.cardratings.com/credit-card/tioga-state-bank-visa-platinum-card\nhttps://www.cardratings.com/credit-card/tompkins-trust-company-cash-rewards-american-express-card.html\nhttps://www.cardratings.com/credit-card/\nhttps://www.cardratings.com/credit-card/tompkins-trust-company-premier-rewards-american-express-card-.html\nhttps://www.cardratings.com/credit-card/tompkins-trust-secured-visa-card\nhttps://www.cardratings.com/credit-card/tompkins-trust-company-visa-signature-real-rewards-card\nhttps://www.cardratings.com/credit-card/tompkins-trust-company-visa-business-card\nhttps://www.cardratings.com/credit-card/tompkins-trust-visa-business-cash-card-review\nhttps://www.cardratings.com/credit-card/tompkins-trust-company-visa-platinum-business-rewards-cards\nhttps://www.cardratings.com/credit-card/tompkins-trust-company-visa-business-rewards-plus-card\nhttps://www.cardratings.com/credit-card/tompkins-trust-company-visaplatinum-card\nhttps://www.cardratings.com/credit-card/toronto-blue-jays-major-league-baseball-extra-bases-credit-card\nhttps://www.cardratings.com/credit-card/torrid-insider-credit-card.html\nhttps://www.cardratings.com/credit-card/toyota-rewards-visa-signature-card--review\nhttps://www.cardratings.com/credit-card/trek-credit-card.html\nhttps://www.cardratings.com/credit-card/tulsa-alumni-rewards-visa-card-review\nhttps://www.cardratings.com/credit-card/united-club-infinite-card\nhttps://www.cardratings.com/credit-card/united-explorer-card.html\nhttps://www.cardratings.com/credit-card/u.s.-pride-bankamericard-cash-rewards-visa-card.html\nhttps://www.cardratings.com/credit-card/ubs-visa-infinite-credit-card\nhttps://www.cardratings.com/credit-card/ubs-visa-signature-credit-card\nhttps://www.cardratings.com/credit-card/umb-direct-cash-visa-signature-credit-card-review\nhttps://www.cardratings.com/credit-card/umb-simply-rewardstm-visa-platinum-credit-card.html\nhttps://www.cardratings.com/credit-card/umsl-alumni-rewards-visa-card-review\nhttps://www.cardratings.com/credit-card/unt-north-texas-alumni-credit-card-with-rewards-review\nhttps://www.cardratings.com/credit-card/us-appliance-credit-card-review\nhttps://www.cardratings.com/credit-card/usa-volleyball-visa-signature-credit-card-review\nhttps://www.cardratings.com/credit-card/usaa-rewards-visa-signature-review\nhttps://www.cardratings.com/credit-card/uber-visa-credit-card-review\nhttps://www.cardratings.com/credit-card/union-bank-business-rewards-visa-credit-card-review\nhttps://www.cardratings.com/credit-card/union-bank-business-secured-visa-credit-card-review\nhttps://www.cardratings.com/credit-card/union-bank-business-visa-credit-card-review\nhttps://www.cardratings.com/credit-card/union-bank-cashback-rewards-visa-card-review\nhttps://www.cardratings.com/credit-card/union-bank-rewards-visa-card-review\nhttps://www.cardratings.com/credit-card/union-bank-secured-visa-credit-card-review\nhttps://www.cardratings.com/credit-card/union-bank-travel-rewards-visa-card-review\nhttps://www.cardratings.com/credit-card/union-bank-visa-credit-card-review\nhttps://www.cardratings.com/credit-card/unfcu-visa-azure-credit-card.html\nhttps://www.cardratings.com/credit-card/united-nations-federal-credit-union-elite-credit-card\nhttps://www.cardratings.com/credit-card/montana-visa-rewards-credit-card-review\nhttps://www.cardratings.com/credit-card/upromise-mastercard.html\nhttps://www.cardratings.com/credit-card/valparaiso-alumni-visa-rewards-card-review\nhttps://www.cardratings.com/credit-card/value-city-furniture-credit-card-review\nhttps://www.cardratings.com/credit-card/victorias-secret-angel-credit-card\nhttps://www.cardratings.com/credit-card/virgin-atlantic-world-elite-mastercard.html\nhttps://www.cardratings.com/credit-card/washington-nationals-bankamericard-cash-rewards-mastercard\nhttps://www.cardratings.com/credit-card/washington-redskins-nfl-extra-points-from-barclays-bank-delaware\nhttps://www.cardratings.com/credit-card/webster-bank-cash-rewards-american-express-card-review\nhttps://www.cardratings.com/credit-card/webster-bank-premier-rewards-american-express-card-review\nhttps://www.cardratings.com/credit-card/webster-bank-secured-visa-card-review\nhttps://www.cardratings.com/credit-card/webster-bank-visa-signature-college-real-rewards-card-review\nhttps://www.cardratings.com/credit-card/webster-bank-visa-signature-real-rewards-card-review\nhttps://www.cardratings.com/credit-card/webster-bank-visa-business-cash-card-review\nhttps://www.cardratings.com/credit-card/webster-bank-visa-business-platinum-card-review\nhttps://www.cardratings.com/credit-card/webster-bank-visa-business-real-rewards-card-review\nhttps://www.cardratings.com/credit-card/webster-bank-visa-business-rewards-plus-card-review\nhttps://www.cardratings.com/credit-card/webster-bank-visa-platinum-card-review\nhttps://www.cardratings.com/credit-card/wells-fargo-advisors-by-invitation-visa-signature-card.html\nhttps://www.cardratings.com/credit-card/wells-fargo-business-elite-card\nhttps://www.cardratings.com/credit-card/wells-fargo-business-platinum-credit-card\nhttps://www.cardratings.com/credit-card/wells-fargo-business-secured-credit-card--review\nhttps://www.cardratings.com/credit-card/wells-fargo-cash-back-sm-college-card\nhttps://www.cardratings.com/credit-card/wells-fargo-visa-signature-card.html\nhttps://www.cardratings.com/credit-card/westjet-rbc-mastercard.html\nhttps://www.cardratings.com/credit-card/westjet-rbc-world-elite-mastercard.html\nhttps://www.cardratings.com/credit-card/whitetails-unlimited-visa-rewards-card-review\nhttps://www.cardratings.com/credit-card/world-wildlife-fund-visa-card.html\nhttps://www.cardratings.com/credit-card/wyndham-rewards-visa-signature-card\nhttps://www.cardratings.com/credit-card/wyndham-rewards-visa-signature-no-annual-fee-card\nhttps://www.cardratings.com/credit-card/zions-bank-amazing-cash-credit-card\nhttps://www.cardratings.com/credit-card/zions-bank-amazing-cash-for-business.html\nhttps://www.cardratings.com/credit-card/amazing-rate-for-business.html\nhttps://www.cardratings.com/credit-card/zions-bank-amazing-rate-low-rate-credit-card\nhttps://www.cardratings.com/credit-card/zions-bank-amazing-rewards-credit-card\nhttps://www.cardratings.com/credit-card/amazing-rewards-for-business.html\n"
    }
   ],
   "source": [
    "# Opening us the website that contains links to reviews for \n",
    "# the cedit cards we will be investiating\n",
    "\n",
    "parent_url = 'https://www.cardratings.com/credit-card-list.html'\n",
    "res = requests.get(parent_url)\n",
    "html_page = res.content\n",
    "soup = BeautifulSoup(html_page, 'html.parser')\n",
    "cc_urls = []\n",
    "for link in soup.find_all('a', href=True):\n",
    "    if 'cardratings.com/credit-card/' in link.get('href'):\n",
    "        print(link.get('href'))\n",
    "        cc_urls.append(link.get('href'))\n"
   ]
  },
  {
   "cell_type": "code",
   "execution_count": 5,
   "metadata": {},
   "outputs": [],
   "source": [
    "\n",
    "\n",
    "def get_annual_fee(string):\n",
    "    \"\"\"\n",
    "    A function to find the annual fee (or dollar amount) in a string\n",
    "    \n",
    "    Inputs:\n",
    "    - string (str), a string containing a $dollar amount\n",
    "    \n",
    "    Output (float), the dollar amount of the annual fee\n",
    "    \"\"\"\n",
    "    try:\n",
    "        return float(re.search('\\$\\d+', string).group()[1:])\n",
    "    except AttributeError:\n",
    "        return 0.\n",
    "    \n",
    "def get_annual_bonus(string):\n",
    "    \"\"\"\n",
    "    A function to look through a string and try and find the annual \n",
    "    bonuses that you get with a particular card that offsets the annual\n",
    "    fee of those cards\n",
    "    \n",
    "    Inputs:\n",
    "    - string (str), a string that contians a description of the card bonuses\n",
    "    \n",
    "    Outputs:\n",
    "    - credits (float), the dollar amount of the annual bonus\n",
    "    \"\"\"\n",
    "    credits = 0\n",
    "    for line in string.split('\\n'):\n",
    "        credit_words = ['saving', 'credits'] # we want to see these words in a sentence\n",
    "        comparitive_words = ['higher', 'lower', 'worse', 'better'] # we don't want to see these words\n",
    "        if any(map(lambda x: x in line.lower(), credit_words)) and not any(map(lambda x: x in line, comparitive_words)):\n",
    "            try:\n",
    "                credits += max([float(credit[1:]) for credit in re.findall('\\$\\d+', line) if float(credit[1:]) >= 50])\n",
    "            except ValueError:\n",
    "                pass\n",
    "    return credits\n",
    "\n",
    "def get_rewards_info_from_url(url):\n",
    "    \"\"\"\n",
    "    A function that will request the html data from a url and find\n",
    "    the rewards, annual fee, and annual bonuses for that link. This\n",
    "    function isn't 100% working (issues with annual fee and bonus). But\n",
    "    can parse out the rewards.\n",
    "    \n",
    "    Inputs:\n",
    "    - url (str), a string representation of the url\n",
    "    \n",
    "    Outputs:\n",
    "    - title (str), the title of the post\n",
    "    - rewards (dict), a dictionary containing the rewards, annual_fee\n",
    "        annual_bonus, and net_fee\n",
    "    \"\"\"\n",
    "    \n",
    "    print()\n",
    "    print()\n",
    "    res = requests.get(url)\n",
    "    html_page = res.content\n",
    "    soup = BeautifulSoup(html_page, 'html.parser')\n",
    "    title = soup.title.text\n",
    "    print(title)\n",
    "    print(url)\n",
    "    if '400' in title:\n",
    "        rewards = {\n",
    "            'flights':0,\n",
    "            'hotel':0,\n",
    "            'grocery':0,\n",
    "            'gas':0,\n",
    "            'utilities':0,\n",
    "            'restaurants':0,\n",
    "            'other':0 \n",
    "        }\n",
    "        rewards['annual_fee'] = 0\n",
    "        rewards['annual_bonus'] = 0\n",
    "        rewards['net_fee'] = 0\n",
    "        return None, rewards\n",
    "        \n",
    "    d = soup.find('div', itemprop='description')\n",
    "    try:\n",
    "        df = pd.read_html(d.decode())[0].T.set_index(0)\n",
    "    except:\n",
    "        rewards = {\n",
    "            'flights':0,\n",
    "            'hotel':0,\n",
    "            'grocery':0,\n",
    "            'gas':0,\n",
    "            'utilities':0,\n",
    "            'restaurants':0,\n",
    "            'other':0 \n",
    "        }\n",
    "        rewards['annual_fee'] = 0\n",
    "        rewards['annual_bonus'] = 0\n",
    "        rewards['net_fee'] = 0\n",
    "        return title, rewards\n",
    "        \n",
    "        \n",
    "    if 'Rewards' in df.index:\n",
    "        rewards = get_rewards_from_string(df[1]['Rewards'])\n",
    "        try:\n",
    "            rewards['annual_fee'] = get_annual_fee(df[1]['Annual Fee'])\n",
    "        except KeyError:\n",
    "            rewards['annual_fee'] = 0\n",
    "            for line in d.text.split('\\n'):\n",
    "                if 'annual fee' in line.lower():\n",
    "                    rewards['annual_fee'] = get_annual_fee(line)\n",
    "                    break\n",
    "            \n",
    "            \n",
    "        rewards['annual_bonus'] = get_annual_bonus(d.text)\n",
    "        rewards['net_fee'] = rewards['annual_fee'] - rewards['annual_bonus']\n",
    "    else:\n",
    "        rewards = get_rewards_from_string(d.text)\n",
    "        rewards['annual_fee'] = 0\n",
    "        rewards['annual_bonus'] = 0\n",
    "        rewards['net_fee'] = 0\n",
    "    return title, rewards\n",
    "    "
   ]
  },
  {
   "cell_type": "code",
   "execution_count": 8,
   "metadata": {},
   "outputs": [
    {
     "output_type": "execute_result",
     "data": {
      "text/plain": "'https://www.cardratings.com/credit-card/aboc-platinum-rewards-credit-card.html'"
     },
     "metadata": {},
     "execution_count": 8
    }
   ],
   "source": [
    "url"
   ]
  },
  {
   "cell_type": "markdown",
   "metadata": {},
   "source": [
    "# The following functions are what we're gonna move over to our module "
   ]
  },
  {
   "cell_type": "code",
   "execution_count": 194,
   "metadata": {
    "tags": []
   },
   "outputs": [
    {
     "output_type": "execute_result",
     "data": {
      "text/plain": "{'rotating': False}"
     },
     "metadata": {},
     "execution_count": 194
    }
   ],
   "source": [
    "# A list of keywords we're looking for \n",
    "KEY_WORDS = {\n",
    "    'flights':['flights', 'airlines','travel', 'air', 'southwest', 'fly'],\n",
    "    'hotel': ['travel', 'hotel'] ,\n",
    "    'grocery':['supermarket', 'grocery', 'groceries'],\n",
    "    'gas':['station', 'gas'],\n",
    "    'utilities':['telephone', 'shipping', 'internet', 'cabel'],\n",
    "    'restaurants':['restaurants', 'dining'],\n",
    "    'other':['select', 'rotating']\n",
    "}\n",
    "\n",
    "def make_soup(url):\n",
    "    \"\"\" Make a soup object from a url\"\"\"\n",
    "    return BeautifulSoup(requests.get(url).content, 'lxml')\n",
    "\n",
    "\n",
    "def find_card_name(soup):\n",
    "    \"\"\"Find the name of the credit card\"\"\"\n",
    "    tag = soup.find('span', attrs={'itemprop':'name'})\n",
    "    if not tag:\n",
    "        return 'Unknown'\n",
    "    title_list = []\n",
    "    for t in tag.text.split():\n",
    "        if '-' in t.lower() or 'review' in t.lower():\n",
    "            break\n",
    "        title_list.append(t)\n",
    "    return ' '.join(title_list)\n",
    "\n",
    "\n",
    "def find_req_credit(soup):\n",
    "    \"\"\"Get the credit required to apply for this card\"\"\"\n",
    "    for tag in soup.find_all('div', attrs={'class':'credit-score-needed'}):\n",
    "        child = tag.find('div')\n",
    "        if child:\n",
    "            return child.text\n",
    "    return 'Unknown'\n",
    "\n",
    "\n",
    "def get_card_type(name):\n",
    "    \"\"\"Get the type of credit card it is from it's name\"\"\"\n",
    "    possible_names = ['Visa', 'MasterCard', 'American Express', 'Discover']\n",
    "    for possible_name in possible_names:\n",
    "        if possible_name.lower() in name.lower(): \n",
    "            return possible_name\n",
    "    return 'Unknown'\n",
    "\n",
    "\n",
    "def get_df_from_tag(tag):\n",
    "    \"\"\"Helps us find this 'rewards table' that exists in many pages \"\"\"\n",
    "    try:\n",
    "        table = tag.find('table', attrs={'class': 'primaryCatgrid'})\n",
    "        return pd.read_html(table.decode())[0].T.set_index(0)\n",
    "    except:\n",
    "        return None\n",
    "\n",
    "\n",
    "def get_rewards_from_string(string, category, key_words):\n",
    "    \"\"\"Get rewards specific for a category with given keywords \"\"\"\n",
    "    if not isinstance(string, str):\n",
    "        return 0.0\n",
    "\n",
    "    for sentence in string.replace('U.S.', 'US').split('. '):\n",
    "        if any(map(lambda x: x in sentence.lower(), key_words)):\n",
    "            try:\n",
    "                multiplyer = float(re.search('(\\d+(?:\\.\\d+)?)', sentence).group())\n",
    "                if multiplyer > 15:\n",
    "                    continue\n",
    "                return multiplyer\n",
    "            except AttributeError:\n",
    "                continue\n",
    "\n",
    "    return 0.0\n",
    "\n",
    "def get_rewards_from_df(df, category, key_words):\n",
    "    \"\"\"Use a few of the above functions to find rewards\"\"\"\n",
    "    if 'Rewards' in df.index:\n",
    "        return get_rewards_from_string(df[1]['Rewards'], category, key_words)\n",
    "    else:\n",
    "        return None\n",
    "\n",
    "def get_rewards_from_soup(soup, category, key_words):\n",
    "    \"\"\"Combines functions from above fo get all rewards from a soup object \"\"\"\n",
    "    tag = soup.find('div', attrs={'itemprop':'description'})\n",
    "    df = get_df_from_tag(tag)\n",
    "    if df is None:\n",
    "        return 0\n",
    "    rewards = get_rewards_from_df(df, category, key_words)\n",
    "    if not rewards:\n",
    "        return get_rewards_from_string(tag.text, category, key_words)\n",
    "    return rewards\n",
    "\n",
    "\n",
    "def fix_flat_cash_back(rewards_dict, categories):\n",
    "    \"\"\"Helper function to fix cards that have 1.5 cash back on everything\"\"\"\n",
    "    for category in categories:\n",
    "        rewards_dict[category] = 1.5\n",
    "    return rewards_dict\n",
    "\n",
    "def get_application_link(soup):\n",
    "    tag = soup.find('div', attrs={'class': 'card-header'})\n",
    "    link = tag.find('a')\n",
    "    if link:\n",
    "        return link.get('href', None)\n",
    "    return None\n",
    "\n",
    "\n",
    "def find_rotating(soup):\n",
    "    tags = soup.find_all('div', attrs={'itemprop':'description'})\n",
    "    for tag in tags:\n",
    "        if 'rotating' in tag.text.lower():\n",
    "            return True\n",
    "    return False\n",
    "\n",
    "def get_annual_fee(soup):\n",
    "    df = get_df_from_tag(soup)\n",
    "    if df is not None and 'Annual Fee' in df.index:\n",
    "        try:\n",
    "            fee = float(df.loc['Annual Fee'][1].replace('$', ''))\n",
    "        except ValueError:\n",
    "            return 0.0\n",
    "    fee = 0\n",
    "    found_one  = False\n",
    "    for tag in soup.find_all('div', attrs={'itemprop':'description'}):\n",
    "        if 'annual fee' in tag.text.lower().replace('no annual fee', ''):\n",
    "            print(tag.text)\n",
    "            found_one = True\n",
    "    if not found_one:\n",
    "        return 0\n",
    "    assert False\n",
    "        \n",
    "\n",
    "\n",
    "tag = soup.find('div', attrs={'itemprop':'description'})\n",
    "card_information['rotating'] = False\n",
    "rewards = {\n",
    "    'flights':0,\n",
    "    'hotel':0,\n",
    "    'grocery':0,\n",
    "    'gas':0,\n",
    "    'utilities':0,\n",
    "    'restaurants':0,\n",
    "    'other':0 \n",
    "}\n",
    "# try looking for a list with 'benefits' in it\n",
    "try:\n",
    "    benefits = tag.find('ul').text.split('\\n')\n",
    "    for benefit in benefits:\n",
    "        print(benefit)\n",
    "\n",
    "except AttributeError:\n",
    "    # There's no list \n",
    "    pass\n",
    "        \n",
    "card_information"
   ]
  },
  {
   "cell_type": "code",
   "execution_count": 195,
   "metadata": {
    "tags": []
   },
   "outputs": [
    {
     "output_type": "stream",
     "name": "stdout",
     "text": "\n\nBulk shopping enthusiasts rejoice; the Costco Anywhere Visa® Card by Citi is a cash-back credit card designed to reward you for your love of giant jars of pickles and enough paper towels to last a year as well as your everyday needs like a tank of gas. Exclusively for Costco members, Costco Visa® cardholders earn cash rewards at Costco, as you'd expect, but on other purchases as well making it a solid everday card. Citi is a CardRatings advertiser.\nCOSTCO CITI CARD BENEFITS\nHere's how the rewards categories break down with the Costco Anywhere Visa® Card by Citi:\n\n\nGas: Earn 4% cash back on gas purchases worldwide, including gas at Costco, for up to the first $7,000 per year in spending (1% after that).\n\nRestaurants and travel: Earn 3% cash back on restaurant purchases and eligible travel purchases worldwide, including airfare, hotels, car rentals, travel agencies, cruise lines and Costco Travel.\n\nCostco: Earn 2% cash back on all other purchases from Costco and Costco.com.\n\nAll other purchases: Earn 1% back on all other purchases.\n\nThere is no annual fee with your paid Costco membership, and you'll receive your cash-back reward annually in the form of a reward certificate mailed to your home with your February billing statement. The reward certificate, which will include all your eligible cash back on purchases made from January through December of the previous year, can be redeemed for purchases at Costco or Costco.com through December of the year in which it is issued. You can redeem your certificate in entirety to cover a Costco purchase (think of it almost like a gift card in this case) or you can use it for a small purchase and receive the remaining balance in cash at a Costco checkout. It's an extra step beyond simply requesting cash back, but it is possible to get cash back in your wallet with this card.\n\nCardRatings Editor's Analysis:  Pros & Cons\n\nAt 4% cash back, the gas rewards rate is among the highest out there. You also earn 3% at restaurants and on travel purchases, 2% at Costco and Costco.com and 1% on all other purchases.\nCombine this card with an Executive Membership at Costco to earn even more cash back.\nFeel free to take this card with you if you travel abroad – you won't be charged a foreign transaction fee.\n\nRewards redemption is automatic and only occurs once a year. If you're looking for more flexibility with your rewards, check out another card, like Chase Freedom®, which also offers cash back at wholesale clubs.\n\nCAN YOU USE COSTCO CREDIT CARD ANYWHERE?\nThe Costco Anywhere Visa® Card by Citi certainly lives up to its name; you really can earn cash-back rewards anywhere with this card. And those rewards aren't skimpy. Earning 4% cash back on eligible gas purchases worldwide, up to $7,000, including gas at Costco, is a great deal for families driving all over town for after-school activities or individuals who commute long distances for work. And because it covers international locations, even family members away on business trips or vacations can earn rewards when filling the tank.\nThis card is actually among the best rewards levels out there when it comes to gas. And with 3% cash back earned at restaurants and hotels and on airfare, car rentals, travel agencies, cruises, and Costco Travel, the Costco Anywhere Visa® Card has the rest of your family vacation or business travel expenses covered as well.\nCOSTCO CITI CARD FOREIGN TRANSACTION FEE\nSpeaking of travel, the Costco Anywhere Visa® Card by Citi does not charge foreign transaction fees so it's great for using both near and far.\nThe average foreign transaction fee for many cash-back cards is 3%, so think of things this way: If your family takes a vacation to the Caribbean and spends $5,000 with this card instead of a card that charges fees, that's $150 saved. Who knew Costco could help you save on both your groceries and your vacations?\n\nTop Features\n\n\nCash Back on Gas\nCash Back on Groceries\nCash Back on Other\n\n\n4% for the first $7,000 per year\n2% on all purchases from Costco and Costco.com\n1%\n\n\n\nCOSTCO CITI CARD POTENTIAL DOWNSIDES\nPerhaps the greatest drawback is the lack of flexibility when it comes to redeeming your rewards. You'll need to wait until February of each year to redeem your cash rewards from the previous year's purchases and the only way to redeem that cash back is through the aforementioned rewards certificate you'll receive in the mail. Card customers looking for a speedier, more efficient way to redeem cash rewards may want to consider other cash-back cards that allow ongoing rewards redemption or redemption directly into a checking or savings account. And, while the card doesn't technically have an annual fee of its own you do need to be a Costco member to apply for the card, which means that you'll pay the warehouse membership fee annually.\nHOW THE COSTCO CREDIT CARD COMPARES TO OTHER CARDS\nCiti Costco Card vs. PenFed Platinum Rewards Visa Signature® Card\n\n\n \n\n\nThis is another card that requires a membership, but the Pentagon Federal Credit Union is fairly easy to join, so don't count this card out before first reading the options for qualifying for membership.\nThe PenFed Platinum Rewards Visa Signature® Card offers a competitive five points per dollar spent (the equivalent of 5% cash back) on gas purchases as well as three points per dollar spend on supermarket purchases, and one point on all other purchases. It does not charge an annual fee, or foreign transaction fees, and as an added bonus, offers new cardholders an opportunity to earn a $100 statement bonus after spending $1,500 in purchases within the first 90 days of account opening.\nCiti Costco Card vs. Chase Freedom®\n\n\n \n\n(This card is not currently available on CardRatings)\nChase Freedom® is an annual-fee-free rotating-categories cash-back rewards card. It isn't specific to Costco, but that doesn't mean you can't rake in some serious rewards by using it there.\nGenerally, Chase Freedom® offers cardholders 5% cash back on up to $1,500 spent in quarterly bonus categories that have included everything from restaurants to Amazon.com purchases to, yes, wholesale club purchases like those at Costco.\nIf you primarily shop at Costco or spend disproportionately at gas stations, restaurants or on travel, you'll likely earn more cash back with the Costco Anywhere Visa® Card, but if you like the idea of earning 5% back in categories that rotate, Chase Freedom® probably makes more sense.\nThe information related to the Chase Freedom® credit card has been collected by CardRatings and has not been reviewed or provided by the issuer of the card.\nCiti Costco Card vs. Bank of America® Cash Rewards credit card\n\n\n \n\n(This card is not currently available on CardRatings)\nThe Bank of America® Cash Rewards credit card features no annual fee and the opportunity to take advantage of a new offer: Maximize your cash back in the category of your choice: gas, online shopping, dining, travel, drug stores, or home improvement/furnishing. You can now earn 3% cash back in your choice category and 2% at grocery stores and wholesale clubs (up to $2,500 in combined choice category/grocery store/wholesale club quarterly purchases), and unlimited 1% on all other purchases. You can update your choice category for future purchases once each calendar month using the mobile banking app or online banking, or do nothing and it stays the same.\nYour rewards are higher on your gas purchases with the Costco card (4% on up to $7,000 spent annually) and you can be rewarded with 3% cash back for eating at restaurants or traveling, which may be a the same or a lower reward rate than you'd earn with the Bank of America card, depending on which category you prioritize. Still, the Bank of America® Cash Rewards credit card offers flexibility when it comes to when and how to redeem your rewards and you can use the card to earn bonus rewards at other wholesale clubs as well as on your everyday grocery purchases.\nThis decision likely comes down to your loyalty to Costco and whether you're comfortable redeeming rewards only annually.\nIS THE COSTCO CREDIT CARD GOOD?\nThe best candidates for the Costco Anywhere Visa® Card by Citi are people who are already familiar with wandering the aisles of Costco, munching on samples and looking for 30-pound bags of rice. Additionally, you'll need to be ready to use the card thoughtfully at gas stations, restaurants and on travel as well if you want to fully realize the rewards potential. If you're someone, however, who spends in a wide variety of categories and not necessarily all that often at Costco, you're likely better off with a flat-rate rewards card instead.\n\n"
    },
    {
     "output_type": "error",
     "ename": "AssertionError",
     "evalue": "",
     "traceback": [
      "\u001b[0;31m---------------------------------------------------------------------------\u001b[0m",
      "\u001b[0;31mAssertionError\u001b[0m                            Traceback (most recent call last)",
      "\u001b[0;32m<ipython-input-195-e4f74cdab2a3>\u001b[0m in \u001b[0;36m<module>\u001b[0;34m\u001b[0m\n\u001b[1;32m     19\u001b[0m         \u001b[0mr\u001b[0m \u001b[0;34m=\u001b[0m \u001b[0mfix_flat_cash_back\u001b[0m\u001b[0;34m(\u001b[0m\u001b[0mr\u001b[0m\u001b[0;34m,\u001b[0m \u001b[0mKEY_WORDS\u001b[0m\u001b[0;34m.\u001b[0m\u001b[0mkeys\u001b[0m\u001b[0;34m(\u001b[0m\u001b[0;34m)\u001b[0m\u001b[0;34m)\u001b[0m\u001b[0;34m\u001b[0m\u001b[0;34m\u001b[0m\u001b[0m\n\u001b[1;32m     20\u001b[0m     \u001b[0mr\u001b[0m\u001b[0;34m[\u001b[0m\u001b[0;34m'rotating'\u001b[0m\u001b[0;34m]\u001b[0m \u001b[0;34m=\u001b[0m \u001b[0mfind_rotating\u001b[0m\u001b[0;34m(\u001b[0m\u001b[0msoup\u001b[0m\u001b[0;34m)\u001b[0m\u001b[0;34m\u001b[0m\u001b[0;34m\u001b[0m\u001b[0m\n\u001b[0;32m---> 21\u001b[0;31m     \u001b[0mr\u001b[0m\u001b[0;34m[\u001b[0m\u001b[0;34m'annual_fee'\u001b[0m\u001b[0;34m]\u001b[0m \u001b[0;34m=\u001b[0m \u001b[0mget_annual_fee\u001b[0m\u001b[0;34m(\u001b[0m\u001b[0msoup\u001b[0m\u001b[0;34m)\u001b[0m\u001b[0;34m\u001b[0m\u001b[0;34m\u001b[0m\u001b[0m\n\u001b[0m\u001b[1;32m     22\u001b[0m     \u001b[0mr\u001b[0m\u001b[0;34m[\u001b[0m\u001b[0;34m'review'\u001b[0m\u001b[0;34m]\u001b[0m \u001b[0;34m=\u001b[0m \u001b[0murl\u001b[0m\u001b[0;34m\u001b[0m\u001b[0;34m\u001b[0m\u001b[0m\n\u001b[1;32m     23\u001b[0m     \u001b[0mr\u001b[0m\u001b[0;34m[\u001b[0m\u001b[0;34m'app_link'\u001b[0m\u001b[0;34m]\u001b[0m \u001b[0;34m=\u001b[0m \u001b[0mget_application_link\u001b[0m\u001b[0;34m(\u001b[0m\u001b[0msoup\u001b[0m\u001b[0;34m)\u001b[0m\u001b[0;34m\u001b[0m\u001b[0;34m\u001b[0m\u001b[0m\n",
      "\u001b[0;32m<ipython-input-194-e70f7e838f95>\u001b[0m in \u001b[0;36mget_annual_fee\u001b[0;34m(soup)\u001b[0m\n\u001b[1;32m    127\u001b[0m     \u001b[0;32mif\u001b[0m \u001b[0;32mnot\u001b[0m \u001b[0mfound_one\u001b[0m\u001b[0;34m:\u001b[0m\u001b[0;34m\u001b[0m\u001b[0;34m\u001b[0m\u001b[0m\n\u001b[1;32m    128\u001b[0m         \u001b[0;32mreturn\u001b[0m \u001b[0;36m0.0\u001b[0m\u001b[0;34m\u001b[0m\u001b[0;34m\u001b[0m\u001b[0m\n\u001b[0;32m--> 129\u001b[0;31m     \u001b[0;32massert\u001b[0m \u001b[0;32mFalse\u001b[0m\u001b[0;34m\u001b[0m\u001b[0;34m\u001b[0m\u001b[0m\n\u001b[0m\u001b[1;32m    130\u001b[0m \u001b[0;34m\u001b[0m\u001b[0m\n\u001b[1;32m    131\u001b[0m \u001b[0;34m\u001b[0m\u001b[0m\n",
      "\u001b[0;31mAssertionError\u001b[0m: "
     ]
    }
   ],
   "source": [
    "int_results = []\n",
    "import random\n",
    "random.shuffle(cc_urls)\n",
    "for url in cc_urls[:100]:\n",
    "    r = {}\n",
    "    soup = make_soup(url)\n",
    "    r['name'] = find_card_name(soup)\n",
    "    r['card_type'] = get_card_type(r['name'])\n",
    "    \n",
    "    r['req_credit'] = find_req_credit(soup)\n",
    "    all_15 = False\n",
    "    for category, key_words in KEY_WORDS.items():\n",
    "        reward = get_rewards_from_soup(soup, category, key_words)\n",
    "        if reward == 1.5:\n",
    "            all_15 = True\n",
    "        r[category] = get_rewards_from_soup(soup, category, key_words)\n",
    "\n",
    "    if all_15: \n",
    "        r = fix_flat_cash_back(r, KEY_WORDS.keys())\n",
    "    r['rotating'] = find_rotating(soup)\n",
    "    r['annual_fee'] = get_annual_fee(soup)\n",
    "    r['review'] = url\n",
    "    r['app_link'] = get_application_link(soup)\n",
    "    int_results.append(r)\n",
    "\n"
   ]
  },
  {
   "cell_type": "code",
   "execution_count": 200,
   "metadata": {
    "tags": []
   },
   "outputs": [
    {
     "output_type": "stream",
     "name": "stdout",
     "text": "Perhaps the greatest drawback is the lack of flexibility when it comes to redeeming your rewards. You'll need to wait until February of each year to redeem your cash rewards from the previous year's purchases and the only way to redeem that cash back is through the aforementioned rewards certificate you'll receive in the mail. Card customers looking for a speedier, more efficient way to redeem cash rewards may want to consider other cash-back cards that allow ongoing rewards redemption or redemption directly into a checking or savings account. And, while the card doesn't technically have an annual fee of its own you do need to be a Costco member to apply for the card, which means that you'll pay the warehouse membership fee annually.\n\nThe PenFed Platinum Rewards Visa Signature® Card offers a competitive five points per dollar spent (the equivalent of 5% cash back) on gas purchases as well as three points per dollar spend on supermarket purchases, and one point on all other purchases. It does not charge an annual fee, or foreign transaction fees, and as an added bonus, offers new cardholders an opportunity to earn a $100 statement bonus after spending $1,500 in purchases within the first 90 days of account opening.\n\n"
    }
   ],
   "source": [
    "for tag in soup.find_all('div', attrs={'itemprop':'description'}):\n",
    "    for paragraph in tag.find_all('p'):\n",
    "        if 'annual fee' in paragraph.text.lower().replace('no annual fee', ''):\n",
    "            print(paragraph.text)\n",
    "            print()"
   ]
  },
  {
   "cell_type": "code",
   "execution_count": 201,
   "metadata": {
    "tags": []
   },
   "outputs": [
    {
     "output_type": "execute_result",
     "data": {
      "text/plain": "                                                name card_type req_credit  \\\n0                  Flagstar Bank Visa® Platinum Card      Visa  Excellent   \n1    University of Montana Visa® Rewards Credit Card      Visa       Good   \n2                         Chemical Bank Secured Visa      Visa    Limited   \n3  Agriculture Federal Credit Union Secured Visa®...      Visa    Limited   \n\n   flights  hotel  grocery  gas  utilities  restaurants  other  rotating  \\\n0      0.0    0.0      0.0  0.0        0.0          0.0    0.0     False   \n1      0.0    0.0      2.0  2.0        0.0          0.0    0.0     False   \n2      0.0    0.0      0.0  0.0        0.0          0.0    0.0     False   \n3      0.0    0.0      0.0  0.0        0.0          0.0    0.0     False   \n\n   annual_fee                                             review app_link  \n0         0.0  https://www.cardratings.com/credit-card/flagst...     None  \n1         0.0  https://www.cardratings.com/credit-card/montan...     None  \n2         0.0  https://www.cardratings.com/credit-card/chemic...     None  \n3         0.0  https://www.cardratings.com/credit-card/afcu-a...     None  ",
      "text/html": "<div>\n<style scoped>\n    .dataframe tbody tr th:only-of-type {\n        vertical-align: middle;\n    }\n\n    .dataframe tbody tr th {\n        vertical-align: top;\n    }\n\n    .dataframe thead th {\n        text-align: right;\n    }\n</style>\n<table border=\"1\" class=\"dataframe\">\n  <thead>\n    <tr style=\"text-align: right;\">\n      <th></th>\n      <th>name</th>\n      <th>card_type</th>\n      <th>req_credit</th>\n      <th>flights</th>\n      <th>hotel</th>\n      <th>grocery</th>\n      <th>gas</th>\n      <th>utilities</th>\n      <th>restaurants</th>\n      <th>other</th>\n      <th>rotating</th>\n      <th>annual_fee</th>\n      <th>review</th>\n      <th>app_link</th>\n    </tr>\n  </thead>\n  <tbody>\n    <tr>\n      <th>0</th>\n      <td>Flagstar Bank Visa® Platinum Card</td>\n      <td>Visa</td>\n      <td>Excellent</td>\n      <td>0.0</td>\n      <td>0.0</td>\n      <td>0.0</td>\n      <td>0.0</td>\n      <td>0.0</td>\n      <td>0.0</td>\n      <td>0.0</td>\n      <td>False</td>\n      <td>0.0</td>\n      <td>https://www.cardratings.com/credit-card/flagst...</td>\n      <td>None</td>\n    </tr>\n    <tr>\n      <th>1</th>\n      <td>University of Montana Visa® Rewards Credit Card</td>\n      <td>Visa</td>\n      <td>Good</td>\n      <td>0.0</td>\n      <td>0.0</td>\n      <td>2.0</td>\n      <td>2.0</td>\n      <td>0.0</td>\n      <td>0.0</td>\n      <td>0.0</td>\n      <td>False</td>\n      <td>0.0</td>\n      <td>https://www.cardratings.com/credit-card/montan...</td>\n      <td>None</td>\n    </tr>\n    <tr>\n      <th>2</th>\n      <td>Chemical Bank Secured Visa</td>\n      <td>Visa</td>\n      <td>Limited</td>\n      <td>0.0</td>\n      <td>0.0</td>\n      <td>0.0</td>\n      <td>0.0</td>\n      <td>0.0</td>\n      <td>0.0</td>\n      <td>0.0</td>\n      <td>False</td>\n      <td>0.0</td>\n      <td>https://www.cardratings.com/credit-card/chemic...</td>\n      <td>None</td>\n    </tr>\n    <tr>\n      <th>3</th>\n      <td>Agriculture Federal Credit Union Secured Visa®...</td>\n      <td>Visa</td>\n      <td>Limited</td>\n      <td>0.0</td>\n      <td>0.0</td>\n      <td>0.0</td>\n      <td>0.0</td>\n      <td>0.0</td>\n      <td>0.0</td>\n      <td>0.0</td>\n      <td>False</td>\n      <td>0.0</td>\n      <td>https://www.cardratings.com/credit-card/afcu-a...</td>\n      <td>None</td>\n    </tr>\n  </tbody>\n</table>\n</div>"
     },
     "metadata": {},
     "execution_count": 201
    }
   ],
   "source": [
    "all_rewards_df = pd.DataFrame(int_results)\n",
    "all_rewards_df"
   ]
  },
  {
   "cell_type": "code",
   "execution_count": null,
   "metadata": {},
   "outputs": [],
   "source": []
  },
  {
   "cell_type": "code",
   "execution_count": 44,
   "metadata": {
    "scrolled": true,
    "tags": []
   },
   "outputs": [
    {
     "output_type": "stream",
     "name": "stdout",
     "text": "Reading results from a previous pickle file\n"
    },
    {
     "output_type": "execute_result",
     "data": {
      "text/plain": "                                               flights  hotel  grocery  gas  \\\nABOC Platinum Rewards Mastercard® Credit Card      5.0    5.0      5.0  1.0   \nAer Lingus Visa Signature Card                     1.0    1.0      1.0  1.0   \nAmerican Airlines AAdvantage MileUp℠ Card          2.0    1.0      2.0  1.0   \nAAA® Member Rewards Visa Signature® Card           1.0    1.0      2.0  2.0   \nAACS                                               0.0    0.0      0.0  0.0   \n...                                                ...    ...      ...  ...   \nZions Bank AmaZing Cash™ for Business              1.0    1.0      1.0  1.0   \nZions Bank AmaZing Rate™ for Business              0.0    0.0      0.0  0.0   \nZions Bank AmaZing Rate™ Credit Card               0.0    0.0      0.0  0.0   \nZions Bank AmaZing Rewards® Credit Card            0.0    0.0      0.0  0.0   \nZions Bank AmaZing Rewards® for Business           0.0    0.0      0.0  0.0   \n\n                                               utilities  restaurants  other  \\\nABOC Platinum Rewards Mastercard® Credit Card        1.0          5.0    5.0   \nAer Lingus Visa Signature Card                       1.0          1.0    1.0   \nAmerican Airlines AAdvantage MileUp℠ Card            1.0          1.0    1.0   \nAAA® Member Rewards Visa Signature® Card             1.0          1.0    1.0   \nAACS                                                 0.0          0.0    0.0   \n...                                                  ...          ...    ...   \nZions Bank AmaZing Cash™ for Business                1.0          1.0    1.0   \nZions Bank AmaZing Rate™ for Business                0.0          0.0    0.0   \nZions Bank AmaZing Rate™ Credit Card                 0.0          0.0    0.0   \nZions Bank AmaZing Rewards® Credit Card              0.0          0.0    0.0   \nZions Bank AmaZing Rewards® for Business             0.0          0.0    0.0   \n\n                                               annual_fee  annual_bonus  \\\nABOC Platinum Rewards Mastercard® Credit Card         0.0           0.0   \nAer Lingus Visa Signature Card                        0.0           0.0   \nAmerican Airlines AAdvantage MileUp℠ Card             0.0         500.0   \nAAA® Member Rewards Visa Signature® Card              0.0           0.0   \nAACS                                                  0.0           0.0   \n...                                                   ...           ...   \nZions Bank AmaZing Cash™ for Business                 0.0           0.0   \nZions Bank AmaZing Rate™ for Business                 0.0           0.0   \nZions Bank AmaZing Rate™ Credit Card                  0.0           0.0   \nZions Bank AmaZing Rewards® Credit Card               0.0           0.0   \nZions Bank AmaZing Rewards® for Business              0.0           0.0   \n\n                                               net_fee  \nABOC Platinum Rewards Mastercard® Credit Card      0.0  \nAer Lingus Visa Signature Card                     0.0  \nAmerican Airlines AAdvantage MileUp℠ Card       -500.0  \nAAA® Member Rewards Visa Signature® Card           0.0  \nAACS                                               0.0  \n...                                                ...  \nZions Bank AmaZing Cash™ for Business              0.0  \nZions Bank AmaZing Rate™ for Business              0.0  \nZions Bank AmaZing Rate™ Credit Card               0.0  \nZions Bank AmaZing Rewards® Credit Card            0.0  \nZions Bank AmaZing Rewards® for Business           0.0  \n\n[778 rows x 10 columns]",
      "text/html": "<div>\n<style scoped>\n    .dataframe tbody tr th:only-of-type {\n        vertical-align: middle;\n    }\n\n    .dataframe tbody tr th {\n        vertical-align: top;\n    }\n\n    .dataframe thead th {\n        text-align: right;\n    }\n</style>\n<table border=\"1\" class=\"dataframe\">\n  <thead>\n    <tr style=\"text-align: right;\">\n      <th></th>\n      <th>flights</th>\n      <th>hotel</th>\n      <th>grocery</th>\n      <th>gas</th>\n      <th>utilities</th>\n      <th>restaurants</th>\n      <th>other</th>\n      <th>annual_fee</th>\n      <th>annual_bonus</th>\n      <th>net_fee</th>\n    </tr>\n  </thead>\n  <tbody>\n    <tr>\n      <th>ABOC Platinum Rewards Mastercard® Credit Card</th>\n      <td>5.0</td>\n      <td>5.0</td>\n      <td>5.0</td>\n      <td>1.0</td>\n      <td>1.0</td>\n      <td>5.0</td>\n      <td>5.0</td>\n      <td>0.0</td>\n      <td>0.0</td>\n      <td>0.0</td>\n    </tr>\n    <tr>\n      <th>Aer Lingus Visa Signature Card</th>\n      <td>1.0</td>\n      <td>1.0</td>\n      <td>1.0</td>\n      <td>1.0</td>\n      <td>1.0</td>\n      <td>1.0</td>\n      <td>1.0</td>\n      <td>0.0</td>\n      <td>0.0</td>\n      <td>0.0</td>\n    </tr>\n    <tr>\n      <th>American Airlines AAdvantage MileUp℠ Card</th>\n      <td>2.0</td>\n      <td>1.0</td>\n      <td>2.0</td>\n      <td>1.0</td>\n      <td>1.0</td>\n      <td>1.0</td>\n      <td>1.0</td>\n      <td>0.0</td>\n      <td>500.0</td>\n      <td>-500.0</td>\n    </tr>\n    <tr>\n      <th>AAA® Member Rewards Visa Signature® Card</th>\n      <td>1.0</td>\n      <td>1.0</td>\n      <td>2.0</td>\n      <td>2.0</td>\n      <td>1.0</td>\n      <td>1.0</td>\n      <td>1.0</td>\n      <td>0.0</td>\n      <td>0.0</td>\n      <td>0.0</td>\n    </tr>\n    <tr>\n      <th>AACS</th>\n      <td>0.0</td>\n      <td>0.0</td>\n      <td>0.0</td>\n      <td>0.0</td>\n      <td>0.0</td>\n      <td>0.0</td>\n      <td>0.0</td>\n      <td>0.0</td>\n      <td>0.0</td>\n      <td>0.0</td>\n    </tr>\n    <tr>\n      <th>...</th>\n      <td>...</td>\n      <td>...</td>\n      <td>...</td>\n      <td>...</td>\n      <td>...</td>\n      <td>...</td>\n      <td>...</td>\n      <td>...</td>\n      <td>...</td>\n      <td>...</td>\n    </tr>\n    <tr>\n      <th>Zions Bank AmaZing Cash™ for Business</th>\n      <td>1.0</td>\n      <td>1.0</td>\n      <td>1.0</td>\n      <td>1.0</td>\n      <td>1.0</td>\n      <td>1.0</td>\n      <td>1.0</td>\n      <td>0.0</td>\n      <td>0.0</td>\n      <td>0.0</td>\n    </tr>\n    <tr>\n      <th>Zions Bank AmaZing Rate™ for Business</th>\n      <td>0.0</td>\n      <td>0.0</td>\n      <td>0.0</td>\n      <td>0.0</td>\n      <td>0.0</td>\n      <td>0.0</td>\n      <td>0.0</td>\n      <td>0.0</td>\n      <td>0.0</td>\n      <td>0.0</td>\n    </tr>\n    <tr>\n      <th>Zions Bank AmaZing Rate™ Credit Card</th>\n      <td>0.0</td>\n      <td>0.0</td>\n      <td>0.0</td>\n      <td>0.0</td>\n      <td>0.0</td>\n      <td>0.0</td>\n      <td>0.0</td>\n      <td>0.0</td>\n      <td>0.0</td>\n      <td>0.0</td>\n    </tr>\n    <tr>\n      <th>Zions Bank AmaZing Rewards® Credit Card</th>\n      <td>0.0</td>\n      <td>0.0</td>\n      <td>0.0</td>\n      <td>0.0</td>\n      <td>0.0</td>\n      <td>0.0</td>\n      <td>0.0</td>\n      <td>0.0</td>\n      <td>0.0</td>\n      <td>0.0</td>\n    </tr>\n    <tr>\n      <th>Zions Bank AmaZing Rewards® for Business</th>\n      <td>0.0</td>\n      <td>0.0</td>\n      <td>0.0</td>\n      <td>0.0</td>\n      <td>0.0</td>\n      <td>0.0</td>\n      <td>0.0</td>\n      <td>0.0</td>\n      <td>0.0</td>\n      <td>0.0</td>\n    </tr>\n  </tbody>\n</table>\n<p>778 rows × 10 columns</p>\n</div>"
     },
     "metadata": {},
     "execution_count": 44
    }
   ],
   "source": [
    "if False: #not os.path.exists('rewards.pkl'): \n",
    "    # If we've run this before, we're gonna read in a pickle file\n",
    "    # to save time\n",
    "    total_rewards = {}\n",
    "    for cc_url in cc_urls:\n",
    "        if cc_url == \"https://www.cardratings.com/credit-card/connect-classic\":\n",
    "            continue # known to be broken url\n",
    "        title, rewards = get_rewards_info_from_url(cc_url)\n",
    "        if title: # cleaning up the title\n",
    "            title_string = ''\n",
    "            review = False\n",
    "            for t in title.split():\n",
    "                if '-' in t.lower() or 'review' in t.lower():\n",
    "                    break\n",
    "                title_string += t + ' '\n",
    "            total_rewards[title_string.strip()] = rewards\n",
    "\n",
    "    # Making and saving the dataframe\n",
    "    rewards_df = pd.DataFrame(total_rewards).T\n",
    "    f = open('rewards.pkl', 'wb')\n",
    "    pickle.dump(rewards_df, f)\n",
    "else:\n",
    "    print('Reading results from a previous pickle file')\n",
    "    f = open('rewards.pkl', 'rb')\n",
    "    rewards_df = pickle.load(f)\n",
    "    \n",
    "    \n",
    "rewards_df"
   ]
  },
  {
   "cell_type": "code",
   "execution_count": 48,
   "metadata": {},
   "outputs": [
    {
     "output_type": "execute_result",
     "data": {
      "text/plain": "flights         5.0\nhotel           5.0\ngrocery         5.0\ngas             1.0\nutilities       1.0\nrestaurants     5.0\nother           5.0\nannual_fee      0.0\nannual_bonus    0.0\nnet_fee         0.0\nName: ABOC Platinum Rewards Mastercard® Credit Card, dtype: float64"
     },
     "metadata": {},
     "execution_count": 48
    }
   ],
   "source": [
    "rewards_df.loc['ABOC Platinum Rewards Mastercard® Credit Card']"
   ]
  },
  {
   "cell_type": "code",
   "execution_count": 7,
   "metadata": {},
   "outputs": [
    {
     "output_type": "execute_result",
     "data": {
      "text/plain": "                                                    flights  hotel  grocery  \\\nAmerican Airlines AAdvantage MileUp℠ Card               2.0    1.0     2.00   \nAAA® Member Rewards Visa Signature® Card                1.0    1.0     2.00   \nAARP® Visa® Signature Card                              1.0    1.0     3.00   \nAgriculture Federal Credit Union Visa® Platinum...      1.0    1.0     2.25   \nAmTrust Bank American Express® Silver Card              1.0    1.0     2.00   \n...                                                     ...    ...      ...   \nWebster Bank Visa® Business Rewards PLUS Card           1.5    1.5     1.50   \nWells Fargo Business Elite Card                         1.5    1.5     1.50   \nWells Fargo Business Platinum Credit Card               1.5    1.5     1.50   \nWells Fargo Business Secured Credit Card                1.5    1.5     1.50   \nWhitetails Unlimited Visa® Rewards Card                 1.0    1.0     2.00   \n\n                                                     gas  utilities  \\\nAmerican Airlines AAdvantage MileUp℠ Card           1.00        1.0   \nAAA® Member Rewards Visa Signature® Card            2.00        1.0   \nAARP® Visa® Signature Card                          3.00        1.0   \nAgriculture Federal Credit Union Visa® Platinum...  2.25        1.0   \nAmTrust Bank American Express® Silver Card          2.00        1.0   \n...                                                  ...        ...   \nWebster Bank Visa® Business Rewards PLUS Card       1.50        1.5   \nWells Fargo Business Elite Card                     1.50        1.5   \nWells Fargo Business Platinum Credit Card           1.50        1.5   \nWells Fargo Business Secured Credit Card            1.50        1.5   \nWhitetails Unlimited Visa® Rewards Card             2.00        1.0   \n\n                                                    restaurants  other  \nAmerican Airlines AAdvantage MileUp℠ Card                   1.0    1.0  \nAAA® Member Rewards Visa Signature® Card                    1.0    1.0  \nAARP® Visa® Signature Card                                  1.0    1.0  \nAgriculture Federal Credit Union Visa® Platinum...          1.0    1.0  \nAmTrust Bank American Express® Silver Card                  1.0    1.0  \n...                                                         ...    ...  \nWebster Bank Visa® Business Rewards PLUS Card               1.5    1.5  \nWells Fargo Business Elite Card                             1.5    1.5  \nWells Fargo Business Platinum Credit Card                   1.5    1.5  \nWells Fargo Business Secured Credit Card                    1.5    1.5  \nWhitetails Unlimited Visa® Rewards Card                     1.0    1.0  \n\n[238 rows x 7 columns]",
      "text/html": "<div>\n<style scoped>\n    .dataframe tbody tr th:only-of-type {\n        vertical-align: middle;\n    }\n\n    .dataframe tbody tr th {\n        vertical-align: top;\n    }\n\n    .dataframe thead th {\n        text-align: right;\n    }\n</style>\n<table border=\"1\" class=\"dataframe\">\n  <thead>\n    <tr style=\"text-align: right;\">\n      <th></th>\n      <th>flights</th>\n      <th>hotel</th>\n      <th>grocery</th>\n      <th>gas</th>\n      <th>utilities</th>\n      <th>restaurants</th>\n      <th>other</th>\n    </tr>\n  </thead>\n  <tbody>\n    <tr>\n      <th>American Airlines AAdvantage MileUp℠ Card</th>\n      <td>2.0</td>\n      <td>1.0</td>\n      <td>2.00</td>\n      <td>1.00</td>\n      <td>1.0</td>\n      <td>1.0</td>\n      <td>1.0</td>\n    </tr>\n    <tr>\n      <th>AAA® Member Rewards Visa Signature® Card</th>\n      <td>1.0</td>\n      <td>1.0</td>\n      <td>2.00</td>\n      <td>2.00</td>\n      <td>1.0</td>\n      <td>1.0</td>\n      <td>1.0</td>\n    </tr>\n    <tr>\n      <th>AARP® Visa® Signature Card</th>\n      <td>1.0</td>\n      <td>1.0</td>\n      <td>3.00</td>\n      <td>3.00</td>\n      <td>1.0</td>\n      <td>1.0</td>\n      <td>1.0</td>\n    </tr>\n    <tr>\n      <th>Agriculture Federal Credit Union Visa® Platinum (with Rebates)</th>\n      <td>1.0</td>\n      <td>1.0</td>\n      <td>2.25</td>\n      <td>2.25</td>\n      <td>1.0</td>\n      <td>1.0</td>\n      <td>1.0</td>\n    </tr>\n    <tr>\n      <th>AmTrust Bank American Express® Silver Card</th>\n      <td>1.0</td>\n      <td>1.0</td>\n      <td>2.00</td>\n      <td>2.00</td>\n      <td>1.0</td>\n      <td>1.0</td>\n      <td>1.0</td>\n    </tr>\n    <tr>\n      <th>...</th>\n      <td>...</td>\n      <td>...</td>\n      <td>...</td>\n      <td>...</td>\n      <td>...</td>\n      <td>...</td>\n      <td>...</td>\n    </tr>\n    <tr>\n      <th>Webster Bank Visa® Business Rewards PLUS Card</th>\n      <td>1.5</td>\n      <td>1.5</td>\n      <td>1.50</td>\n      <td>1.50</td>\n      <td>1.5</td>\n      <td>1.5</td>\n      <td>1.5</td>\n    </tr>\n    <tr>\n      <th>Wells Fargo Business Elite Card</th>\n      <td>1.5</td>\n      <td>1.5</td>\n      <td>1.50</td>\n      <td>1.50</td>\n      <td>1.5</td>\n      <td>1.5</td>\n      <td>1.5</td>\n    </tr>\n    <tr>\n      <th>Wells Fargo Business Platinum Credit Card</th>\n      <td>1.5</td>\n      <td>1.5</td>\n      <td>1.50</td>\n      <td>1.50</td>\n      <td>1.5</td>\n      <td>1.5</td>\n      <td>1.5</td>\n    </tr>\n    <tr>\n      <th>Wells Fargo Business Secured Credit Card</th>\n      <td>1.5</td>\n      <td>1.5</td>\n      <td>1.50</td>\n      <td>1.50</td>\n      <td>1.5</td>\n      <td>1.5</td>\n      <td>1.5</td>\n    </tr>\n    <tr>\n      <th>Whitetails Unlimited Visa® Rewards Card</th>\n      <td>1.0</td>\n      <td>1.0</td>\n      <td>2.00</td>\n      <td>2.00</td>\n      <td>1.0</td>\n      <td>1.0</td>\n      <td>1.0</td>\n    </tr>\n  </tbody>\n</table>\n<p>238 rows × 7 columns</p>\n</div>"
     },
     "metadata": {},
     "execution_count": 7
    }
   ],
   "source": [
    "# Currently don't trust the annual fee and bonus section, \n",
    "# so we're going to process based on the rewards alone\n",
    "\n",
    "# TODO: Find accurate net_fee for all cards and use that when \n",
    "# calculating rewards\n",
    "to_plot = rewards_df[rewards_df.columns[:-3]]\n",
    "\n",
    "# Only looking at credit card with greater than 1% back at everything\n",
    "to_plot = to_plot[to_plot.sum(axis=1) > len(to_plot.columns)]\n",
    "\n",
    "# Removing cards that have a weirdly high point value\n",
    "# These data are either parsed incorrectly or are hotel rewards were\n",
    "# the point to cent ratio is high (e.g. many points to a cent)\n",
    "to_plot = to_plot[to_plot.sum(axis=1) <= 2*len(to_plot.columns)] \n",
    "to_plot"
   ]
  },
  {
   "cell_type": "code",
   "execution_count": 9,
   "metadata": {},
   "outputs": [
    {
     "output_type": "execute_result",
     "data": {
      "text/plain": "{'flights': 895.4899999999999,\n 'hotel': 9.9,\n 'grocery': 1803.92,\n 'gas': 336.03999999999996,\n 'utilities': 0.0,\n 'restaurants': 4069.8500000000004,\n 'other': 44067.240000000005}"
     },
     "metadata": {},
     "execution_count": 9
    }
   ],
   "source": [
    "# From my own annual expenses over the last 12 months\n",
    "\n",
    "# Reading in a CSV file from my mint.com accout\n",
    "transactions = pd.read_csv('transactions-3.csv')\n",
    "transactions['Date'][0]\n",
    "def compare_date(date):\n",
    "    \"\"\"\n",
    "    A function to find if a date is within a year from now\n",
    "    \n",
    "    Inputs:\n",
    "    - date (str), a date in the mm/dd/yyyy format\n",
    "    \n",
    "    Returns:\n",
    "    - bool (str), a bool indicating if the date is \n",
    "        within a year from now or not\n",
    "    \"\"\"\n",
    "    other = '4/3/2020'\n",
    "    m,d,y = date.split('/')\n",
    "    om,od,oy = other.split('/')\n",
    "    m = int(m)\n",
    "    d = int(d)\n",
    "    y = int(y)\n",
    "    om = int(om)\n",
    "    od = int(od)\n",
    "    oy = int(oy)\n",
    "    if oy <= y+1:\n",
    "        if om < m:\n",
    "            return True\n",
    "        elif om == m:\n",
    "            if od < d:\n",
    "                return True\n",
    "            else:\n",
    "                return False\n",
    "        else: \n",
    "            return False\n",
    "    else:\n",
    "        return False\n",
    "# Removing all positive transactions\n",
    "transactions = transactions[transactions['Transaction Type'] == 'debit']\n",
    "\n",
    "# Finding all transactions within a year of now\n",
    "transactions = transactions[transactions['Date'].map(compare_date)]\n",
    "\n",
    "# Parsing out annual expenses for each specific category\n",
    "food = transactions[transactions.Category.map(lambda x: x.lower() in ['food & dinging', 'alcohol & bars', 'restaurants', 'fast food'])].Amount.sum()\n",
    "flights = transactions[transactions.Category.map(lambda x: x.lower() in ['air travel'])].Amount.sum()\n",
    "hotel = transactions[transactions.Category.map(lambda x: x.lower() in ['hotel'])].Amount.sum()\n",
    "gas = transactions[transactions.Category.map(lambda x: x.lower() in ['auto & transport', 'gas & fuel'])].Amount.sum()\n",
    "grocery = transactions[transactions.Category.map(lambda x: x.lower() in ['groceries'])].Amount.sum()\n",
    "utilities = transactions[transactions.Category.map(lambda x: x.lower() in ['bills & utilities', 'mobile phone', 'internet'])].Amount.sum()\n",
    "other = transactions.Amount.sum() - food -  flights - hotel - gas - grocery\n",
    "\n",
    "# Making a dict containing all of the expenses, to be used later\n",
    "expenses = {\n",
    "    'flights': flights,\n",
    "    'hotel':hotel,\n",
    "    'grocery':grocery,\n",
    "    'gas':gas,\n",
    "    'utilities':utilities,\n",
    "    'restaurants': food,\n",
    "    'other':other\n",
    "    \n",
    "}\n",
    "\n",
    "expenses"
   ]
  },
  {
   "cell_type": "code",
   "execution_count": 10,
   "metadata": {},
   "outputs": [],
   "source": [
    "def calculate_rewards(rewards_df, expenses):\n",
    "    \"\"\"\n",
    "    A function to calculate the max rewards for a parsed dataframe.\n",
    "    TODO: this needs to eventually include net_fee in it's equation.\n",
    "    \n",
    "    Inputs:\n",
    "    - rewards_df (pd.DateFrame), a sliced dataframe with columns\n",
    "        similar to to_plot\n",
    "    - expenses (dict), a dictionary containing all of a person's \n",
    "        annual expenses\n",
    "        \n",
    "    Returns:\n",
    "    - cash_rewards (float), the annual rewards one would recieve\n",
    "    \"\"\"\n",
    "    cash_rewards = 0\n",
    "    for category, expense in expenses.items():\n",
    "        try:\n",
    "            if isinstance(rewards_df[category], float):\n",
    "                rate = rewards_df[category] / 100\n",
    "            else:\n",
    "                rate = max(rewards_df[category]) / 100\n",
    "            cash_rewards += rate * expense\n",
    "        except:\n",
    "            continue\n",
    "        \n",
    "    return cash_rewards"
   ]
  },
  {
   "cell_type": "code",
   "execution_count": 11,
   "metadata": {},
   "outputs": [],
   "source": [
    "# Given that there are many different combinations of cards, we're \n",
    "# going to be solving this stochasticly. 1000 random combination of\n",
    "# `card_number` of cards will be chosen and will be used to estimate \n",
    "# annual rewards. These will be stored to find an approximate max, median\n",
    "# and min amount of rewards for each number_of_cards.\n",
    "\n",
    "if os.path.exists('calculated_rewards.pkl') and os.path.exists('cloud.pkl'):\n",
    "    f = open('calculated_rewards.pkl', 'rb')\n",
    "    calculated_rewards = pickle.load(f)\n",
    "    f = open('cloud.pkl', 'rb')\n",
    "    word_cloud = pickle.load(f)\n",
    "else:\n",
    "    calculated_rewards = {} # to keep track of total rewards\n",
    "    word_cloud = {} # to be used for a wordcloud\n",
    "    for card_number in range(11):\n",
    "        # Between 0 and 10 cards\n",
    "        card_rewards = []\n",
    "        cloud_list = []\n",
    "\n",
    "        for i in range(1000):\n",
    "            choice = np.random.choice(to_plot.index, card_number)\n",
    "            card_rewards.append(calculate_rewards(to_plot.loc[choice], expenses))\n",
    "            cloud_list.append((calculate_rewards(to_plot.loc[choice], expenses), choice))\n",
    "        calculated_rewards[card_number] = card_rewards\n",
    "        word_cloud[card_number] = cloud_list\n",
    "\n",
    "    f = open('calculated_rewards.pkl', 'wb')\n",
    "    pickle.dump(calculated_rewards, f)\n",
    "    f = open('cloud.pkl', 'wb')\n",
    "    pickle.dump(word_cloud, f)    "
   ]
  },
  {
   "cell_type": "code",
   "execution_count": null,
   "metadata": {},
   "outputs": [],
   "source": []
  }
 ],
 "metadata": {
  "kernelspec": {
   "display_name": "Python (tdi_env)",
   "language": "python",
   "name": "tdi_env"
  },
  "language_info": {
   "codemirror_mode": {
    "name": "ipython",
    "version": 3
   },
   "file_extension": ".py",
   "mimetype": "text/x-python",
   "name": "python",
   "nbconvert_exporter": "python",
   "pygments_lexer": "ipython3",
   "version": "3.7.6-final"
  }
 },
 "nbformat": 4,
 "nbformat_minor": 4
}